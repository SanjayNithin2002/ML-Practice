{
 "cells": [
  {
   "cell_type": "code",
   "execution_count": 2,
   "id": "cf28af12",
   "metadata": {},
   "outputs": [],
   "source": [
    "import pandas as pd"
   ]
  },
  {
   "cell_type": "code",
   "execution_count": 3,
   "id": "016e84d1",
   "metadata": {},
   "outputs": [],
   "source": [
    "product_details = pd.read_csv(\"3.Vendor_Data.csv\")"
   ]
  },
  {
   "cell_type": "code",
   "execution_count": 5,
   "id": "58616f3c",
   "metadata": {},
   "outputs": [],
   "source": [
    "#preprocessing"
   ]
  },
  {
   "cell_type": "code",
   "execution_count": 6,
   "id": "81e9fb7a",
   "metadata": {},
   "outputs": [],
   "source": [
    "bool_null = pd.isnull(product_details)\n"
   ]
  },
  {
   "cell_type": "code",
   "execution_count": 9,
   "id": "72142573",
   "metadata": {},
   "outputs": [],
   "source": [
    "bool_null_list = bool_null.values.tolist()"
   ]
  },
  {
   "cell_type": "code",
   "execution_count": 41,
   "id": "a40511e0",
   "metadata": {},
   "outputs": [],
   "source": [
    "null_count = sum([sum([1 for j in i if j==True]) for i in bool_null_list])"
   ]
  },
  {
   "cell_type": "code",
   "execution_count": 42,
   "id": "499134ff",
   "metadata": {},
   "outputs": [
    {
     "data": {
      "text/plain": [
       "0"
      ]
     },
     "execution_count": 42,
     "metadata": {},
     "output_type": "execute_result"
    }
   ],
   "source": [
    "null_count"
   ]
  },
  {
   "cell_type": "code",
   "execution_count": 43,
   "id": "74f01c4e",
   "metadata": {},
   "outputs": [
    {
     "data": {
      "text/html": [
       "<div>\n",
       "<style scoped>\n",
       "    .dataframe tbody tr th:only-of-type {\n",
       "        vertical-align: middle;\n",
       "    }\n",
       "\n",
       "    .dataframe tbody tr th {\n",
       "        vertical-align: top;\n",
       "    }\n",
       "\n",
       "    .dataframe thead th {\n",
       "        text-align: right;\n",
       "    }\n",
       "</style>\n",
       "<table border=\"1\" class=\"dataframe\">\n",
       "  <thead>\n",
       "    <tr style=\"text-align: right;\">\n",
       "      <th></th>\n",
       "      <th>Products</th>\n",
       "      <th>Avg_Price_per_unit</th>\n",
       "      <th>Cost_per_unit</th>\n",
       "      <th>Average_Profit_per_unit</th>\n",
       "      <th>Average_units_sold</th>\n",
       "      <th>Incremental_acquisition</th>\n",
       "      <th>Increase_sale_volume</th>\n",
       "    </tr>\n",
       "  </thead>\n",
       "  <tbody>\n",
       "    <tr>\n",
       "      <th>0</th>\n",
       "      <td>Product 1</td>\n",
       "      <td>95</td>\n",
       "      <td>92</td>\n",
       "      <td>2.8</td>\n",
       "      <td>0.6</td>\n",
       "      <td>0.00323</td>\n",
       "      <td>0.08906</td>\n",
       "    </tr>\n",
       "    <tr>\n",
       "      <th>1</th>\n",
       "      <td>Product 2</td>\n",
       "      <td>37</td>\n",
       "      <td>27</td>\n",
       "      <td>10.0</td>\n",
       "      <td>0.8</td>\n",
       "      <td>0.00106</td>\n",
       "      <td>0.01991</td>\n",
       "    </tr>\n",
       "    <tr>\n",
       "      <th>2</th>\n",
       "      <td>Product 3</td>\n",
       "      <td>34</td>\n",
       "      <td>26</td>\n",
       "      <td>8.5</td>\n",
       "      <td>0.6</td>\n",
       "      <td>0.00328</td>\n",
       "      <td>0.03778</td>\n",
       "    </tr>\n",
       "    <tr>\n",
       "      <th>3</th>\n",
       "      <td>Product 4</td>\n",
       "      <td>32</td>\n",
       "      <td>30</td>\n",
       "      <td>2.8</td>\n",
       "      <td>0.7</td>\n",
       "      <td>0.00000</td>\n",
       "      <td>0.08562</td>\n",
       "    </tr>\n",
       "    <tr>\n",
       "      <th>4</th>\n",
       "      <td>Product 5</td>\n",
       "      <td>62</td>\n",
       "      <td>45</td>\n",
       "      <td>16.0</td>\n",
       "      <td>1.0</td>\n",
       "      <td>0.00079</td>\n",
       "      <td>0.02637</td>\n",
       "    </tr>\n",
       "    <tr>\n",
       "      <th>...</th>\n",
       "      <td>...</td>\n",
       "      <td>...</td>\n",
       "      <td>...</td>\n",
       "      <td>...</td>\n",
       "      <td>...</td>\n",
       "      <td>...</td>\n",
       "      <td>...</td>\n",
       "    </tr>\n",
       "    <tr>\n",
       "      <th>245</th>\n",
       "      <td>Product 246</td>\n",
       "      <td>23</td>\n",
       "      <td>21</td>\n",
       "      <td>2.0</td>\n",
       "      <td>1.5</td>\n",
       "      <td>0.00290</td>\n",
       "      <td>0.07129</td>\n",
       "    </tr>\n",
       "    <tr>\n",
       "      <th>246</th>\n",
       "      <td>Product 247</td>\n",
       "      <td>59</td>\n",
       "      <td>57</td>\n",
       "      <td>1.5</td>\n",
       "      <td>0.5</td>\n",
       "      <td>0.00000</td>\n",
       "      <td>0.05905</td>\n",
       "    </tr>\n",
       "    <tr>\n",
       "      <th>247</th>\n",
       "      <td>Product 248</td>\n",
       "      <td>16</td>\n",
       "      <td>15</td>\n",
       "      <td>0.9</td>\n",
       "      <td>1.6</td>\n",
       "      <td>0.00095</td>\n",
       "      <td>0.04835</td>\n",
       "    </tr>\n",
       "    <tr>\n",
       "      <th>248</th>\n",
       "      <td>Product 249</td>\n",
       "      <td>84</td>\n",
       "      <td>71</td>\n",
       "      <td>13.2</td>\n",
       "      <td>0.8</td>\n",
       "      <td>0.00264</td>\n",
       "      <td>0.00473</td>\n",
       "    </tr>\n",
       "    <tr>\n",
       "      <th>249</th>\n",
       "      <td>Product 250</td>\n",
       "      <td>38</td>\n",
       "      <td>28</td>\n",
       "      <td>9.7</td>\n",
       "      <td>2.1</td>\n",
       "      <td>0.00540</td>\n",
       "      <td>0.02149</td>\n",
       "    </tr>\n",
       "  </tbody>\n",
       "</table>\n",
       "<p>250 rows × 7 columns</p>\n",
       "</div>"
      ],
      "text/plain": [
       "        Products  Avg_Price_per_unit  Cost_per_unit  Average_Profit_per_unit  \\\n",
       "0      Product 1                  95             92                      2.8   \n",
       "1      Product 2                  37             27                     10.0   \n",
       "2      Product 3                  34             26                      8.5   \n",
       "3      Product 4                  32             30                      2.8   \n",
       "4      Product 5                  62             45                     16.0   \n",
       "..           ...                 ...            ...                      ...   \n",
       "245  Product 246                  23             21                      2.0   \n",
       "246  Product 247                  59             57                      1.5   \n",
       "247  Product 248                  16             15                      0.9   \n",
       "248  Product 249                  84             71                     13.2   \n",
       "249  Product 250                  38             28                      9.7   \n",
       "\n",
       "     Average_units_sold  Incremental_acquisition  Increase_sale_volume  \n",
       "0                   0.6                  0.00323               0.08906  \n",
       "1                   0.8                  0.00106               0.01991  \n",
       "2                   0.6                  0.00328               0.03778  \n",
       "3                   0.7                  0.00000               0.08562  \n",
       "4                   1.0                  0.00079               0.02637  \n",
       "..                  ...                      ...                   ...  \n",
       "245                 1.5                  0.00290               0.07129  \n",
       "246                 0.5                  0.00000               0.05905  \n",
       "247                 1.6                  0.00095               0.04835  \n",
       "248                 0.8                  0.00264               0.00473  \n",
       "249                 2.1                  0.00540               0.02149  \n",
       "\n",
       "[250 rows x 7 columns]"
      ]
     },
     "execution_count": 43,
     "metadata": {},
     "output_type": "execute_result"
    }
   ],
   "source": [
    "product_details"
   ]
  },
  {
   "cell_type": "code",
   "execution_count": null,
   "id": "ad52f19f",
   "metadata": {},
   "outputs": [],
   "source": []
  }
 ],
 "metadata": {
  "kernelspec": {
   "display_name": "Python 3 (ipykernel)",
   "language": "python",
   "name": "python3"
  },
  "language_info": {
   "codemirror_mode": {
    "name": "ipython",
    "version": 3
   },
   "file_extension": ".py",
   "mimetype": "text/x-python",
   "name": "python",
   "nbconvert_exporter": "python",
   "pygments_lexer": "ipython3",
   "version": "3.9.9"
  }
 },
 "nbformat": 4,
 "nbformat_minor": 5
}
